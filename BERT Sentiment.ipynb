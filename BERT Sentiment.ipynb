{
 "cells": [
  {
   "cell_type": "code",
   "execution_count": 3,
   "id": "bb00bdeb",
   "metadata": {},
   "outputs": [
    {
     "name": "stdout",
     "output_type": "stream",
     "text": [
      "Looking in links: https://download.pytorch.org/whl/torch_stable.html\n",
      "Collecting torch==1.8.1+cu102\n",
      "  Downloading https://download.pytorch.org/whl/cu102/torch-1.8.1%2Bcu102-cp38-cp38-win_amd64.whl (1387.1 MB)\n",
      "Collecting torchvision==0.9.1+cu102\n",
      "  Downloading https://download.pytorch.org/whl/cu102/torchvision-0.9.1%2Bcu102-cp38-cp38-win_amd64.whl (1.6 MB)\n",
      "Collecting torchaudio===0.8.1\n",
      "  Downloading https://download.pytorch.org/whl/torchaudio-0.8.1-cp38-none-win_amd64.whl (109 kB)\n",
      "Requirement already satisfied: numpy in c:\\users\\chris\\anaconda3\\lib\\site-packages (from torch==1.8.1+cu102) (1.20.1)\n",
      "Requirement already satisfied: typing-extensions in c:\\users\\chris\\anaconda3\\lib\\site-packages (from torch==1.8.1+cu102) (3.7.4.3)\n",
      "Requirement already satisfied: pillow>=4.1.1 in c:\\users\\chris\\anaconda3\\lib\\site-packages (from torchvision==0.9.1+cu102) (8.2.0)\n",
      "Installing collected packages: torch, torchvision, torchaudio\n",
      "Successfully installed torch-1.8.1+cu102 torchaudio-0.8.1 torchvision-0.9.1+cu102\n"
     ]
    }
   ],
   "source": [
    " !pip3 install torch==1.8.1+cu102 torchvision==0.9.1+cu102 torchaudio===0.8.1 -f https://download.pytorch.org/whl/torch_stable.html\n",
    "        # 1. Install and Import Dependencies"
   ]
  },
  {
   "cell_type": "code",
   "execution_count": 4,
   "id": "c81704af",
   "metadata": {},
   "outputs": [
    {
     "name": "stdout",
     "output_type": "stream",
     "text": [
      "Collecting transformers\n",
      "  Downloading transformers-4.21.1-py3-none-any.whl (4.7 MB)\n",
      "Requirement already satisfied: requests in c:\\users\\chris\\anaconda3\\lib\\site-packages (2.25.1)\n",
      "Requirement already satisfied: beautifulsoup4 in c:\\users\\chris\\anaconda3\\lib\\site-packages (4.9.3)\n",
      "Requirement already satisfied: pandas in c:\\users\\chris\\anaconda3\\lib\\site-packages (1.2.4)\n",
      "Requirement already satisfied: numpy in c:\\users\\chris\\anaconda3\\lib\\site-packages (1.20.1)\n",
      "Requirement already satisfied: soupsieve>1.2 in c:\\users\\chris\\anaconda3\\lib\\site-packages (from beautifulsoup4) (2.2.1)\n",
      "Requirement already satisfied: python-dateutil>=2.7.3 in c:\\users\\chris\\anaconda3\\lib\\site-packages (from pandas) (2.8.1)\n",
      "Requirement already satisfied: pytz>=2017.3 in c:\\users\\chris\\anaconda3\\lib\\site-packages (from pandas) (2021.1)\n",
      "Requirement already satisfied: six>=1.5 in c:\\users\\chris\\anaconda3\\lib\\site-packages (from python-dateutil>=2.7.3->pandas) (1.15.0)\n",
      "Requirement already satisfied: chardet<5,>=3.0.2 in c:\\users\\chris\\anaconda3\\lib\\site-packages (from requests) (4.0.0)\n",
      "Requirement already satisfied: urllib3<1.27,>=1.21.1 in c:\\users\\chris\\anaconda3\\lib\\site-packages (from requests) (1.26.4)\n",
      "Requirement already satisfied: certifi>=2017.4.17 in c:\\users\\chris\\anaconda3\\lib\\site-packages (from requests) (2020.12.5)\n",
      "Requirement already satisfied: idna<3,>=2.5 in c:\\users\\chris\\anaconda3\\lib\\site-packages (from requests) (2.10)\n",
      "Requirement already satisfied: tqdm>=4.27 in c:\\users\\chris\\anaconda3\\lib\\site-packages (from transformers) (4.59.0)\n",
      "Requirement already satisfied: regex!=2019.12.17 in c:\\users\\chris\\anaconda3\\lib\\site-packages (from transformers) (2021.4.4)\n",
      "Collecting huggingface-hub<1.0,>=0.1.0\n",
      "  Downloading huggingface_hub-0.8.1-py3-none-any.whl (101 kB)\n",
      "Requirement already satisfied: packaging>=20.0 in c:\\users\\chris\\anaconda3\\lib\\site-packages (from transformers) (20.9)\n",
      "Collecting tokenizers!=0.11.3,<0.13,>=0.11.1\n",
      "  Downloading tokenizers-0.12.1-cp38-cp38-win_amd64.whl (3.3 MB)\n",
      "Requirement already satisfied: filelock in c:\\users\\chris\\anaconda3\\lib\\site-packages (from transformers) (3.0.12)\n",
      "Requirement already satisfied: pyyaml>=5.1 in c:\\users\\chris\\anaconda3\\lib\\site-packages (from transformers) (5.4.1)\n",
      "Requirement already satisfied: typing-extensions>=3.7.4.3 in c:\\users\\chris\\anaconda3\\lib\\site-packages (from huggingface-hub<1.0,>=0.1.0->transformers) (3.7.4.3)\n",
      "Requirement already satisfied: pyparsing>=2.0.2 in c:\\users\\chris\\anaconda3\\lib\\site-packages (from packaging>=20.0->transformers) (2.4.7)\n",
      "Installing collected packages: tokenizers, huggingface-hub, transformers\n",
      "Successfully installed huggingface-hub-0.8.1 tokenizers-0.12.1 transformers-4.21.1\n"
     ]
    }
   ],
   "source": [
    "!pip install transformers requests beautifulsoup4 pandas numpy"
   ]
  },
  {
   "cell_type": "markdown",
   "id": "92feb8aa",
   "metadata": {},
   "source": [
    "# 2. Instantiate Model"
   ]
  },
  {
   "cell_type": "code",
   "execution_count": 5,
   "id": "1433cb73",
   "metadata": {},
   "outputs": [],
   "source": [
    "from transformers import AutoTokenizer, AutoModelForSequenceClassification\n",
    "import torch\n",
    "import requests\n",
    "from bs4 import BeautifulSoup\n",
    "import re"
   ]
  },
  {
   "cell_type": "code",
   "execution_count": 6,
   "id": "08cb5a19",
   "metadata": {},
   "outputs": [
    {
     "data": {
      "application/vnd.jupyter.widget-view+json": {
       "model_id": "647e94282fbc4eefb9c11b5d1068c09e",
       "version_major": 2,
       "version_minor": 0
      },
      "text/plain": [
       "Downloading tokenizer_config.json:   0%|          | 0.00/39.0 [00:00<?, ?B/s]"
      ]
     },
     "metadata": {},
     "output_type": "display_data"
    },
    {
     "data": {
      "application/vnd.jupyter.widget-view+json": {
       "model_id": "d48f0b41ce204cf383f089fd93789866",
       "version_major": 2,
       "version_minor": 0
      },
      "text/plain": [
       "Downloading config.json:   0%|          | 0.00/953 [00:00<?, ?B/s]"
      ]
     },
     "metadata": {},
     "output_type": "display_data"
    },
    {
     "data": {
      "application/vnd.jupyter.widget-view+json": {
       "model_id": "91d8842297e840019a028bb2c1a01d64",
       "version_major": 2,
       "version_minor": 0
      },
      "text/plain": [
       "Downloading vocab.txt:   0%|          | 0.00/851k [00:00<?, ?B/s]"
      ]
     },
     "metadata": {},
     "output_type": "display_data"
    },
    {
     "data": {
      "application/vnd.jupyter.widget-view+json": {
       "model_id": "900cbe59e4c74812b52cb3ae33b0fcc3",
       "version_major": 2,
       "version_minor": 0
      },
      "text/plain": [
       "Downloading special_tokens_map.json:   0%|          | 0.00/112 [00:00<?, ?B/s]"
      ]
     },
     "metadata": {},
     "output_type": "display_data"
    },
    {
     "data": {
      "application/vnd.jupyter.widget-view+json": {
       "model_id": "572079aee03744c7bc1712cf3e958028",
       "version_major": 2,
       "version_minor": 0
      },
      "text/plain": [
       "Downloading pytorch_model.bin:   0%|          | 0.00/638M [00:00<?, ?B/s]"
      ]
     },
     "metadata": {},
     "output_type": "display_data"
    }
   ],
   "source": [
    "tokenizer = AutoTokenizer.from_pretrained('nlptown/bert-base-multilingual-uncased-sentiment')\n",
    "\n",
    "model = AutoModelForSequenceClassification.from_pretrained('nlptown/bert-base-multilingual-uncased-sentiment')"
   ]
  },
  {
   "cell_type": "markdown",
   "id": "47178a99",
   "metadata": {},
   "source": [
    "# 3. Encode and Calculate Sentiment"
   ]
  },
  {
   "cell_type": "code",
   "execution_count": 7,
   "id": "2543ee9c",
   "metadata": {},
   "outputs": [],
   "source": [
    "tokens = tokenizer.encode('It was good but couldve been better. Great', return_tensors='pt')"
   ]
  },
  {
   "cell_type": "code",
   "execution_count": 8,
   "id": "82453adc",
   "metadata": {},
   "outputs": [],
   "source": [
    "result = model(tokens)"
   ]
  },
  {
   "cell_type": "code",
   "execution_count": 9,
   "id": "5e9b06f4",
   "metadata": {},
   "outputs": [
    {
     "data": {
      "text/plain": [
       "tensor([[-2.7768, -1.2353,  1.4419,  1.9804,  0.4584]],\n",
       "       grad_fn=<AddmmBackward>)"
      ]
     },
     "execution_count": 9,
     "metadata": {},
     "output_type": "execute_result"
    }
   ],
   "source": [
    "result.logits"
   ]
  },
  {
   "cell_type": "code",
   "execution_count": 10,
   "id": "e4de6dd0",
   "metadata": {},
   "outputs": [
    {
     "data": {
      "text/plain": [
       "4"
      ]
     },
     "execution_count": 10,
     "metadata": {},
     "output_type": "execute_result"
    }
   ],
   "source": [
    "int(torch.argmax(result.logits))+1"
   ]
  },
  {
   "cell_type": "markdown",
   "id": "9ac9a6cf",
   "metadata": {},
   "source": [
    "# 4. Collect Reviews"
   ]
  },
  {
   "cell_type": "code",
   "execution_count": 11,
   "id": "a9b394fe",
   "metadata": {},
   "outputs": [],
   "source": [
    "r = requests.get('https://www.yelp.com/biz/social-brew-cafe-pyrmont')\n",
    "soup = BeautifulSoup(r.text, 'html.parser')\n",
    "regex = re.compile('.*comment.*')\n",
    "results = soup.find_all('p', {'class':regex})\n",
    "reviews = [result.text for result in results]"
   ]
  },
  {
   "cell_type": "code",
   "execution_count": 12,
   "id": "0bb6a647",
   "metadata": {},
   "outputs": [
    {
     "data": {
      "text/plain": [
       "['Great staff and food. \\xa0Must try is the pan fried Gnocchi! \\xa0The staff were really friendly and the coffee was good as well',\n",
       " \"It was ok. The coffee wasn't the best but it was fine. The relish on the breakfast roll was yum which did make it sing. So perhaps I just got a bad coffee but the food was good on my visit.\",\n",
       " 'I came to Social brew cafe for brunch while exploring the city and on my way to the aquarium. I sat outside. The service was great and the food was good too!I ordered smoked salmon, truffle fries, black coffee and beer.',\n",
       " \"Ricotta hot cakes! These were so yummy. I ate them pretty fast and didn't share with anyone because they were that good ;). I ordered a green smoothie to balance it all out. Smoothie was a nice way to end my brekkie at this restaurant. Others with me ordered the salmon Benedict and the smoked salmon flatbread. They were all delicious and all plates were empty. Cheers!\",\n",
       " 'I went here a little while ago- a beautiful morning,a lovely little brew house on a quaint street corner- perfection.I went to this cafe with my step-daughter Lucille.She was always raving about how great it was to her mother, so I thought it would be a nice idea to go here with her for her birthday... boy was I wrong.She announced her hatred for me while I was waiting for my extra large iced frappé. It felt like hours of awkward silence once she said those four words; \"you\\'re a low-life.\"Was it in my mind, or was my drink taking ages to arrive? The hands on the clock didn\\'t budge from the last time I glanced at them- 7:43AM, where the fuck is my drink?\"Why do you always feel you have to be my friend? You\\'re not my dad!\" She fired.I could only sit there, my head facing down towards the floral tablecloth that lay beneath my quivering arms. The bullet lodged in my heart.I don\\'t understand why she hates me so much; is it my jokes? The funny way I walk? The fact that I often scream myself awake in the mornings? I guess I\\'ll never know.The truth is, I don\\'t really care about her that much at all. I\\'m only part of her family because her mother gives such great head. Other than that, she\\'s essentially bat shit on the pavement; waiting for some other poor soul to step on her once I\\'ve divorced her mother. I can\\'t say that to her though... at least not until her mother has let herself go.Where the fuck is my drink?The silence continued until the waiter brought over our coffees. About time!\"That looks nice\" I said to her as she stirred her sugar into the light brown liquid.\"Don\\'t talk to me. You always try to talk to me even though you know you\\'ll get nowhere. Why?\"\"Because I want to get to know you, I\\'m part of your family now.\" I said in reply.\"You\\'re fucking gross and you only want to hang around me because you have no mates.\"\"That isn\\'t true, I have plenty of friends, they just all died in terrible accidents under mildly suspicious circumstances.\" I retorted, happy with my defence.She sniggered, \"why did your last wife leave you anyways?\"\"She wasn\\'t happy with the way I used to curl up in the top-load washing machine and wait there until she unknowingly turned it on while I was in there. In my opinion, it saves time and water. Why have a shower and wash your clothes separately when you can do them simultaneously? I think she was angry because I didn\\'t seperate the whites and the blacks\" I stated, as I took my first sip of delicious Iced Frappé. The cream at the top coating my top lip.She replied, standing up and pushing in her chair, \"You\\'re fucking mental. I\\'m leaving, if you come back home, I\\'m literally killing myself.\" She exited the cafe.With the threat of suicide and the taste of coffee on my tongue, I left... alone.Overall it\\'s a lovely place, highly recommend it for anyone living in the Pyrmont area. Great atmosphere and wonderful staff.Definitely coming back.- 5 stars!!!',\n",
       " \"We came for brunch twice in our week-long visit to Sydney. Everything on the menu not only sounds delicious, but is really tasty. It really gave us a sour taste of how bad breaky is in America with what's so readily available in Sydney! \\xa0Both days we went were Saturdays and there was a bit of a wait to be seated, the cafe is extremely busy for both dine-in and take-away. Service is fairly quick and servers are all friendly. The location is in Surrey Hills a couple blocks away from the bustling touristy Darling Harbor.The green smoothie is very tasty and refreshing. We tried the smoked salmon salad, the soft shell crab tacos, ricotta hotcakes, and the breaky sandwich. All were delicious, well seasoned, and a solid amount of food for the price. A definite recommend for anyone's trip into Sydney!\",\n",
       " \"Ron & Jo are on the go down under and Wow! \\xa0We've found our breakfast place in Sydney and are coming back before we leave! \\xa0 I yelped you the Social Brew Cafe which was a few blocks from where we are staying so off we went. \\xa0They have seating outside and inside and it was a little chilly and they had a table available inside so we grabbed it. \\xa0The menu has a lot of tantalizing choices and our very nice waitress made some suggestions that we took. \\xa0Jo went with the ricotta pancakes with iced tea and I ordered the smoked salmon with a macchiato. \\xa0Our drinks were served quickly and my wife's crimson iced tea had a nice flavor and macchiato was served dark and rich. \\xa0Jo's pancakes came with a liberal number of fresh strawberries and the ricotta was spread between the first and second pancake with a pistachio butter (lots of ground pistachios) in between the second and third cake. \\xa0These pancakes were well presented and so delicious! \\xa0Jo order a side of bacon which was a crispy generous Canadian bacon that was so also tasty and a good accompaniment. \\xa0My smoked salmon had a mild smoke taste and the micro mesclun lettuce bed was went well with the flat bread and buttermilk dressing. \\xa0Very good! \\xa0We had a great meal and expect to come back in our short stay here. \\xa0Which says a lot! \\xa0I am Bookmarking the Social Brew Cafe! Food & Beverage 4.75 Great tasting food and cut above most breakfast places in presentation and taste! \\xa0I prefer a smokier salmon but I am nitpicking. \\xa0Service 5 Outstanding pleasant waitress was great and responsive.Atmosphere 4.5 Comfortable and cozy. Outdoor eating area as next to a green space which adds to the experience. Price 4.5 Great value for what you get for your dollar!OA 4.75 - I would be a regular here and we plan on coming back for another meal or two while we are here.Returned for a second time and had another awesome experience ordering the Mushroom Bruschetta. A thick slice of sourdough bread that mushrooms and two poached eggs with cream fresh and grated cheese flavored with truffles and pink of beef sausage. \\xa0I had the loaded double, a stack of two slices of bread that sandwich ham and melted cheese between and topped with a free range sunny side up egg. \\xa0They simply have some excellent food that is well prepared and presented. \\xa0Absolutely love going here!\",\n",
       " \"Great coffee and vibe. That's all \\xa0you need. Crab was outstanding but not good finger food like a taco should be. Really want to try the pork belly sandwich - looked excellent. This became my go to breakfast place in Darling harbor. Had the avocado salmon salad breakfast and it was excellent. Service has been excellent.\",\n",
       " \"Great coffee and vibe. That's all \\xa0you need. Crab was outstanding but not good finger food like a taco should be. Really want to try the pork belly sandwich - looked excellent.\",\n",
       " 'Good coffee and toasts. Straight up and down - hits the spot with nothing mind blowing. Solid and tasty. \\xa0Good work',\n",
       " \"This place is a gem. The ambiance is to die for. The service is really nice. The coffee is a must. Ah I can still remember how that Ice Latte brought me back to life. I ordered the Mushroom and parmesan bruschetta. It was delish, even though if I ever get it again, I will asked for my eggs over easy. Bear and I both ordered the spiked Watermelon, passionfruit and pineapple juice. The spiked part was a joke, couldn't feel it or taste it. Whats the point then? If you offer something, really go for it. We sent them back for extra spike and it still came back pretty lame. But I still recommend the place =)\"]"
      ]
     },
     "execution_count": 12,
     "metadata": {},
     "output_type": "execute_result"
    }
   ],
   "source": [
    "reviews"
   ]
  },
  {
   "cell_type": "markdown",
   "id": "7e64c746",
   "metadata": {},
   "source": [
    "# 5. Load Reviews into DataFrame and Score"
   ]
  },
  {
   "cell_type": "code",
   "execution_count": 13,
   "id": "e7febcd7",
   "metadata": {},
   "outputs": [],
   "source": [
    "import numpy as np\n",
    "import pandas as pd"
   ]
  },
  {
   "cell_type": "code",
   "execution_count": 14,
   "id": "6f2989cd",
   "metadata": {},
   "outputs": [],
   "source": [
    "df = pd.DataFrame(np.array(reviews), columns=['review'])"
   ]
  },
  {
   "cell_type": "code",
   "execution_count": 15,
   "id": "4f91df01",
   "metadata": {},
   "outputs": [
    {
     "data": {
      "text/plain": [
       "'Great staff and food. \\xa0Must try is the pan fried Gnocchi! \\xa0The staff were really friendly and the coffee was good as well'"
      ]
     },
     "execution_count": 15,
     "metadata": {},
     "output_type": "execute_result"
    }
   ],
   "source": [
    "df['review'].iloc[0]"
   ]
  },
  {
   "cell_type": "code",
   "execution_count": 16,
   "id": "562d90f1",
   "metadata": {},
   "outputs": [],
   "source": [
    "def sentiment_score(review):\n",
    "    tokens = tokenizer.encode(review, return_tensors='pt')\n",
    "    result = model(tokens)\n",
    "    return int(torch.argmax(result.logits))+1"
   ]
  },
  {
   "cell_type": "code",
   "execution_count": 17,
   "id": "234a8a87",
   "metadata": {},
   "outputs": [
    {
     "data": {
      "text/plain": [
       "3"
      ]
     },
     "execution_count": 17,
     "metadata": {},
     "output_type": "execute_result"
    }
   ],
   "source": [
    "sentiment_score(df['review'].iloc[1])"
   ]
  },
  {
   "cell_type": "code",
   "execution_count": 18,
   "id": "d85334eb",
   "metadata": {},
   "outputs": [],
   "source": [
    "df['sentiment'] = df['review'].apply(lambda x: sentiment_score(x[:512]))"
   ]
  },
  {
   "cell_type": "code",
   "execution_count": 19,
   "id": "4d2ff220",
   "metadata": {},
   "outputs": [
    {
     "data": {
      "text/html": [
       "<div>\n",
       "<style scoped>\n",
       "    .dataframe tbody tr th:only-of-type {\n",
       "        vertical-align: middle;\n",
       "    }\n",
       "\n",
       "    .dataframe tbody tr th {\n",
       "        vertical-align: top;\n",
       "    }\n",
       "\n",
       "    .dataframe thead th {\n",
       "        text-align: right;\n",
       "    }\n",
       "</style>\n",
       "<table border=\"1\" class=\"dataframe\">\n",
       "  <thead>\n",
       "    <tr style=\"text-align: right;\">\n",
       "      <th></th>\n",
       "      <th>review</th>\n",
       "      <th>sentiment</th>\n",
       "    </tr>\n",
       "  </thead>\n",
       "  <tbody>\n",
       "    <tr>\n",
       "      <th>0</th>\n",
       "      <td>Great staff and food.  Must try is the pan fri...</td>\n",
       "      <td>5</td>\n",
       "    </tr>\n",
       "    <tr>\n",
       "      <th>1</th>\n",
       "      <td>It was ok. The coffee wasn't the best but it w...</td>\n",
       "      <td>3</td>\n",
       "    </tr>\n",
       "    <tr>\n",
       "      <th>2</th>\n",
       "      <td>I came to Social brew cafe for brunch while ex...</td>\n",
       "      <td>5</td>\n",
       "    </tr>\n",
       "    <tr>\n",
       "      <th>3</th>\n",
       "      <td>Ricotta hot cakes! These were so yummy. I ate ...</td>\n",
       "      <td>5</td>\n",
       "    </tr>\n",
       "    <tr>\n",
       "      <th>4</th>\n",
       "      <td>I went here a little while ago- a beautiful mo...</td>\n",
       "      <td>2</td>\n",
       "    </tr>\n",
       "    <tr>\n",
       "      <th>5</th>\n",
       "      <td>We came for brunch twice in our week-long visi...</td>\n",
       "      <td>4</td>\n",
       "    </tr>\n",
       "    <tr>\n",
       "      <th>6</th>\n",
       "      <td>Ron &amp; Jo are on the go down under and Wow!  We...</td>\n",
       "      <td>5</td>\n",
       "    </tr>\n",
       "    <tr>\n",
       "      <th>7</th>\n",
       "      <td>Great coffee and vibe. That's all  you need. C...</td>\n",
       "      <td>5</td>\n",
       "    </tr>\n",
       "    <tr>\n",
       "      <th>8</th>\n",
       "      <td>Great coffee and vibe. That's all  you need. C...</td>\n",
       "      <td>4</td>\n",
       "    </tr>\n",
       "    <tr>\n",
       "      <th>9</th>\n",
       "      <td>Good coffee and toasts. Straight up and down -...</td>\n",
       "      <td>5</td>\n",
       "    </tr>\n",
       "    <tr>\n",
       "      <th>10</th>\n",
       "      <td>This place is a gem. The ambiance is to die fo...</td>\n",
       "      <td>3</td>\n",
       "    </tr>\n",
       "  </tbody>\n",
       "</table>\n",
       "</div>"
      ],
      "text/plain": [
       "                                               review  sentiment\n",
       "0   Great staff and food.  Must try is the pan fri...          5\n",
       "1   It was ok. The coffee wasn't the best but it w...          3\n",
       "2   I came to Social brew cafe for brunch while ex...          5\n",
       "3   Ricotta hot cakes! These were so yummy. I ate ...          5\n",
       "4   I went here a little while ago- a beautiful mo...          2\n",
       "5   We came for brunch twice in our week-long visi...          4\n",
       "6   Ron & Jo are on the go down under and Wow!  We...          5\n",
       "7   Great coffee and vibe. That's all  you need. C...          5\n",
       "8   Great coffee and vibe. That's all  you need. C...          4\n",
       "9   Good coffee and toasts. Straight up and down -...          5\n",
       "10  This place is a gem. The ambiance is to die fo...          3"
      ]
     },
     "execution_count": 19,
     "metadata": {},
     "output_type": "execute_result"
    }
   ],
   "source": [
    "df"
   ]
  },
  {
   "cell_type": "code",
   "execution_count": 20,
   "id": "7fea1b0d",
   "metadata": {},
   "outputs": [
    {
     "data": {
      "text/plain": [
       "\"Ricotta hot cakes! These were so yummy. I ate them pretty fast and didn't share with anyone because they were that good ;). I ordered a green smoothie to balance it all out. Smoothie was a nice way to end my brekkie at this restaurant. Others with me ordered the salmon Benedict and the smoked salmon flatbread. They were all delicious and all plates were empty. Cheers!\""
      ]
     },
     "execution_count": 20,
     "metadata": {},
     "output_type": "execute_result"
    }
   ],
   "source": [
    "df['review'].iloc[3]"
   ]
  }
 ],
 "metadata": {
  "kernelspec": {
   "display_name": "Python 3",
   "language": "python",
   "name": "python3"
  },
  "language_info": {
   "codemirror_mode": {
    "name": "ipython",
    "version": 3
   },
   "file_extension": ".py",
   "mimetype": "text/x-python",
   "name": "python",
   "nbconvert_exporter": "python",
   "pygments_lexer": "ipython3",
   "version": "3.8.8"
  }
 },
 "nbformat": 4,
 "nbformat_minor": 5
}
